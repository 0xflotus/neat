{
 "cells": [
  {
   "cell_type": "code",
   "execution_count": 5,
   "metadata": {
    "collapsed": true
   },
   "outputs": [],
   "source": [
    "from policy import PIB, NEATProperty, NEATPolicy, NEATRequest\n",
    "from cib import CIB"
   ]
  },
  {
   "cell_type": "code",
   "execution_count": 6,
   "metadata": {
    "collapsed": false
   },
   "outputs": [
    {
     "name": "stdout",
     "output_type": "stream",
     "text": [
      "loading CIB source A.connection\n",
      "loading CIB source B.connection\n",
      "loading CIB source C.connection\n"
     ]
    }
   ],
   "source": [
    "cib = CIB('cib/example/')\n",
    "pib = PIB()"
   ]
  },
  {
   "cell_type": "markdown",
   "metadata": {},
   "source": [
    "We define to policies and add them to the PIB"
   ]
  },
  {
   "cell_type": "code",
   "execution_count": 7,
   "metadata": {
    "collapsed": false
   },
   "outputs": [
    {
     "name": "stdout",
     "output_type": "stream",
     "text": [
      "===== PIB START =====\n",
      "POLICY Bulk transfer: {(remote_ip|10.1.23.45)}  ==>  {(MTU|9600), [capacity|10-100]}\n",
      "POLICY TCP options: {(MTU|9600), (is_wired|True)}  ==>  {(TCP_window_scale|True)}\n",
      "===== PIB END =====\n"
     ]
    }
   ],
   "source": [
    "policy1 = NEATPolicy(name='Bulk transfer')\n",
    "policy1.match.insert(NEATProperty(('remote_ip', '10.1.23.45')))\n",
    "policy1.properties.insert(NEATProperty(('capacity', (10, 100)), level=NEATProperty.IMMUTABLE))\n",
    "policy1.properties.insert(NEATProperty(('MTU', 9600)))\n",
    "\n",
    "policy2 = NEATPolicy(name='TCP options')\n",
    "policy2.match.insert(NEATProperty(('MTU', 9600)))\n",
    "policy2.match.insert(NEATProperty(('is_wired', True)))\n",
    "policy2.properties.insert(NEATProperty(('TCP_window_scale', True)))\n",
    "\n",
    "pib.register(policy2)\n",
    "pib.register(policy1)\n",
    "pib.dump()"
   ]
  },
  {
   "cell_type": "code",
   "execution_count": null,
   "metadata": {
    "collapsed": true
   },
   "outputs": [],
   "source": []
  }
 ],
 "metadata": {
  "kernelspec": {
   "display_name": "Python 3",
   "language": "python",
   "name": "python3"
  },
  "language_info": {
   "codemirror_mode": {
    "name": "ipython",
    "version": 3
   },
   "file_extension": ".py",
   "mimetype": "text/x-python",
   "name": "python",
   "nbconvert_exporter": "python",
   "pygments_lexer": "ipython3",
   "version": "3.5.1"
  }
 },
 "nbformat": 4,
 "nbformat_minor": 0
}
