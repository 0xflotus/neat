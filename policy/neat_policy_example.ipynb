{
 "cells": [
  {
   "cell_type": "code",
   "execution_count": 1,
   "metadata": {
    "collapsed": true
   },
   "outputs": [],
   "source": [
    "from policy import PIB, NEATProperty, NEATPolicy, NEATRequest\n",
    "from cib import CIB"
   ]
  },
  {
   "cell_type": "markdown",
   "metadata": {},
   "source": [
    "# Application Request\n",
    "\n",
    "An application would like to open a new TCP connection using NEAT to a destination host `d1` with the IP 10.1.23.45. Further the MTU should be 1500 bytes if possible. We can configure this NEATRequest as follows: "
   ]
  },
  {
   "cell_type": "code",
   "execution_count": 2,
   "metadata": {
    "collapsed": false
   },
   "outputs": [
    {
     "name": "stdout",
     "output_type": "stream",
     "text": [
      "<NEATRequest: 0 candidates, 3 properties>\n"
     ]
    },
    {
     "data": {
      "text/plain": [
       "{[remote_ip|10.1.23.45], (MTU|1500-inf), (transport|TCP)}"
      ]
     },
     "execution_count": 2,
     "metadata": {},
     "output_type": "execute_result"
    }
   ],
   "source": [
    "property1 = NEATProperty(('remote_ip', '10.1.23.45'), level=NEATProperty.IMMUTABLE)\n",
    "\n",
    "request = NEATRequest()\n",
    "request.properties.insert(property1)\n",
    "request.properties.insert(NEATProperty(('MTU', (1500, float('inf')))))\n",
    "request.properties.insert(NEATProperty(('transport', 'TCP')))\n",
    "\n",
    "print(request)\n",
    "request.properties"
   ]
  },
  {
   "cell_type": "markdown",
   "metadata": {},
   "source": [
    "# Example Scenario\n",
    "\n",
    "Consider a host with three local interfaces `en0`, `en1`, `ra0`. Two of the interfaces, `en0`, `en1`, are wired while `ra0` is a 3G interface."
   ]
  },
  {
   "cell_type": "code",
   "execution_count": 3,
   "metadata": {
    "collapsed": false
   },
   "outputs": [
    {
     "name": "stdout",
     "output_type": "stream",
     "text": [
      "loading CIB source A.connection\n",
      "loading CIB source B.connection\n",
      "loading CIB source C.connection\n"
     ]
    }
   ],
   "source": [
    "cib = CIB('cib/example/')"
   ]
  },
  {
   "cell_type": "markdown",
   "metadata": {},
   "source": [
    "The currently known network properties are stored in the following CIB entries:"
   ]
  },
  {
   "cell_type": "code",
   "execution_count": 4,
   "metadata": {
    "collapsed": false
   },
   "outputs": [
    {
     "name": "stdout",
     "output_type": "stream",
     "text": [
      "C: {[MTU|890], [is_wired|False], [remote_ip|10.1.23.45], [interface|ra0], [capacity|0.6], [local_ip|10.10.2.2]}\n",
      "B: {[MTU|1500], [is_wired|True], <transport_UDP|true>, [interface|en1], <transport_TCP|true>, [capacity|40], [local_ip|192.168.1.2]}\n",
      "A: {[MTU|9600], <dns_name|backup.example.com>, [is_wired|True], <transport|TCP>, [remote_ip|10.1.23.45], [capacity|10], [interface|en0], [local_ip|10.2.0.1]}\n"
     ]
    }
   ],
   "source": [
    "cib.dump()"
   ]
  },
  {
   "cell_type": "markdown",
   "metadata": {},
   "source": [
    "# PIB \n",
    "We define two policies and add them to the Policy Information Base (PIB).\n",
    "\n",
    "A \"bulk transfer\" policy is configured on the host. This policy is triggered by a specific destination IP, which is known to be the address of backup NFS share:"
   ]
  },
  {
   "cell_type": "code",
   "execution_count": 5,
   "metadata": {
    "collapsed": true
   },
   "outputs": [],
   "source": [
    "policy1 = NEATPolicy(name='Bulk transfer')\n",
    "policy1.match.insert(NEATProperty(('remote_ip', '10.1.23.45')))\n",
    "policy1.properties.insert(NEATProperty(('capacity', (10, 100)), level=NEATProperty.IMMUTABLE))\n",
    "policy1.properties.insert(NEATProperty(('MTU', 9600)))"
   ]
  },
  {
   "cell_type": "markdown",
   "metadata": {},
   "source": [
    "Another policy is in place to enable TCP window scaling on 10G links, if possible:"
   ]
  },
  {
   "cell_type": "code",
   "execution_count": 6,
   "metadata": {
    "collapsed": true
   },
   "outputs": [],
   "source": [
    "policy2 = NEATPolicy(name='TCP options')\n",
    "policy2.match.insert(NEATProperty(('MTU', 9600)))\n",
    "policy2.match.insert(NEATProperty(('is_wired', True)))\n",
    "policy2.properties.insert(NEATProperty(('TCP_window_scale', True)))"
   ]
  },
  {
   "cell_type": "code",
   "execution_count": 7,
   "metadata": {
    "collapsed": false
   },
   "outputs": [
    {
     "name": "stdout",
     "output_type": "stream",
     "text": [
      "===== PIB START =====\n",
      "POLICY Bulk transfer: {(remote_ip|10.1.23.45)}  ==>  {(MTU|9600), [capacity|10-100]}\n",
      "POLICY TCP options: {(MTU|9600), (is_wired|True)}  ==>  {(TCP_window_scale|True)}\n",
      "===== PIB END =====\n"
     ]
    }
   ],
   "source": [
    "pib = PIB()\n",
    "pib.register(policy2)\n",
    "pib.register(policy1)\n",
    "pib.dump()"
   ]
  },
  {
   "cell_type": "markdown",
   "metadata": {},
   "source": [
    "# Lookup Result\n",
    "\n",
    "## CIB Lookup\n",
    "\n",
    "First we perform a lookup in the CIB. The NEAT request yields three candidates:\n"
   ]
  },
  {
   "cell_type": "code",
   "execution_count": 8,
   "metadata": {
    "collapsed": false
   },
   "outputs": [
    {
     "name": "stdout",
     "output_type": "stream",
     "text": [
      "{[remote_ip|10.1.23.45], (MTU|1500-inf), (transport|TCP)}\n",
      "===== candidates =====\n",
      "[0]PROPERTIES: {[MTU|890]-1.0, [is_wired|False], (transport|TCP), [remote_ip|10.1.23.45]+1.0, [local_ip|10.10.2.2], [capacity|0.6], [interface|ra0]}, POLICIES: set()\n",
      "[1]PROPERTIES: {[MTU|1500]+1.0, [is_wired|True], <transport_UDP|true>, (transport|TCP), [remote_ip|10.1.23.45], <transport_TCP|true>, [capacity|40], [interface|en1], [local_ip|192.168.1.2]}, POLICIES: set()\n",
      "[2]PROPERTIES: {[MTU|9600]+1.0, [is_wired|True], (transport|TCP)+1.0, [remote_ip|10.1.23.45]+1.0, [local_ip|10.2.0.1], [capacity|10], <dns_name|backup.example.com>, [interface|en0]}, POLICIES: set()\n",
      "===== candidates =====\n"
     ]
    }
   ],
   "source": [
    "cib.lookup(request)\n",
    "request.dump()"
   ]
  },
  {
   "cell_type": "markdown",
   "metadata": {},
   "source": [
    "The scores of the CIB properties that match the request properties have been increased"
   ]
  },
  {
   "cell_type": "markdown",
   "metadata": {},
   "source": [
    "## PIB Lookup\n",
    "In the next step the policies are applied starting with the \"Bulk transfer\" policy which has the smallest number of match entries.\n"
   ]
  },
  {
   "cell_type": "code",
   "execution_count": 9,
   "metadata": {
    "collapsed": false
   },
   "outputs": [
    {
     "name": "stdout",
     "output_type": "stream",
     "text": [
      "Candidate 0 is invalidated due to policy\n",
      "{[remote_ip|10.1.23.45], (MTU|1500-inf), (transport|TCP)}\n",
      "===== candidates =====\n",
      "[0]PROPERTIES: {[MTU|1500]+0.0, [is_wired|True], (TCP_window_scale|True), <transport_UDP|true>, (transport|TCP), [remote_ip|10.1.23.45], <transport_TCP|true>, [capacity|40]+1.0, [interface|en1], [local_ip|192.168.1.2]}, POLICIES: {4381688384, 4381687936}\n",
      "[1]PROPERTIES: {[MTU|9600]+2.0, [is_wired|True], (TCP_window_scale|True), (transport|TCP)+1.0, [remote_ip|10.1.23.45]+1.0, [local_ip|10.2.0.1], [capacity|10]+1.0, <dns_name|backup.example.com>, [interface|en0]}, POLICIES: {4381688384, 4381687936}\n",
      "===== candidates =====\n"
     ]
    }
   ],
   "source": [
    "pib.lookup_all(request.candidates)\n",
    "request.dump()"
   ]
  },
  {
   "cell_type": "markdown",
   "metadata": {},
   "source": [
    "Candidate 1 becomes:        "
   ]
  },
  {
   "cell_type": "code",
   "execution_count": 10,
   "metadata": {
    "collapsed": false
   },
   "outputs": [
    {
     "name": "stdout",
     "output_type": "stream",
     "text": [
      "PROPERTIES: {[MTU|1500]+0.0, [is_wired|True], (TCP_window_scale|True), <transport_UDP|true>, (transport|TCP), [remote_ip|10.1.23.45], <transport_TCP|true>, [capacity|40]+1.0, [interface|en1], [local_ip|192.168.1.2]}, POLICIES: {4381688384, 4381687936}\n"
     ]
    }
   ],
   "source": [
    "request.candidates[0].dump()"
   ]
  },
  {
   "cell_type": "markdown",
   "metadata": {},
   "source": [
    "Next we examine Candidate 2:"
   ]
  },
  {
   "cell_type": "code",
   "execution_count": 11,
   "metadata": {
    "collapsed": false
   },
   "outputs": [
    {
     "name": "stdout",
     "output_type": "stream",
     "text": [
      "PROPERTIES: {[MTU|9600]+2.0, [is_wired|True], (TCP_window_scale|True), (transport|TCP)+1.0, [remote_ip|10.1.23.45]+1.0, [local_ip|10.2.0.1], [capacity|10]+1.0, <dns_name|backup.example.com>, [interface|en0]}, POLICIES: {4381688384, 4381687936}\n"
     ]
    }
   ],
   "source": [
    "request.candidates[1].dump()"
   ]
  },
  {
   "cell_type": "markdown",
   "metadata": {},
   "source": [
    "Note that the score of the MTU property was reduced, as it did not match the requested property of the \"Bulk transfer\" policy.\n",
    "\n",
    "The \"TCP options\" policy is not applied as the candidate does not match the policy's MTU property.\n",
    "\n",
    "---\n",
    "\n",
    "The third candidate was invalidated because the \"Bulk transfer\" policy contains an immutable property requiring a capacity of 10G, which candidate 3 cannot fulfil.\n",
    "\n",
    "---"
   ]
  },
  {
   "cell_type": "markdown",
   "metadata": {},
   "source": [
    "# NEAT Logic\n",
    "The two candidates can now be passed on to the NEAT logic as JSON strings"
   ]
  },
  {
   "cell_type": "code",
   "execution_count": 12,
   "metadata": {
    "collapsed": false
   },
   "outputs": [
    {
     "data": {
      "text/plain": [
       "'[{\"MTU\": {\"level\": 2, \"score\": 0.0, \"value\": 1500}}, {\"is_wired\": {\"level\": 2, \"score\": NaN, \"value\": true}}, {\"TCP_window_scale\": {\"level\": 1, \"score\": NaN, \"value\": true}}, {\"transport_UDP\": {\"level\": 0, \"score\": NaN, \"value\": \"true\"}}, {\"transport\": {\"level\": 1, \"score\": NaN, \"value\": \"TCP\"}}, {\"remote_ip\": {\"level\": 2, \"score\": NaN, \"value\": \"10.1.23.45\"}}, {\"transport_TCP\": {\"level\": 0, \"score\": NaN, \"value\": \"true\"}}, {\"capacity\": {\"level\": 2, \"score\": 1.0, \"value\": 40}}, {\"interface\": {\"level\": 2, \"score\": NaN, \"value\": \"en1\"}}, {\"local_ip\": {\"level\": 2, \"score\": NaN, \"value\": \"192.168.1.2\"}}]'"
      ]
     },
     "execution_count": 12,
     "metadata": {},
     "output_type": "execute_result"
    }
   ],
   "source": [
    "request.candidates[0].properties.json()"
   ]
  },
  {
   "cell_type": "code",
   "execution_count": 13,
   "metadata": {
    "collapsed": false
   },
   "outputs": [
    {
     "data": {
      "text/plain": [
       "'[{\"MTU\": {\"level\": 2, \"score\": 2.0, \"value\": 9600}}, {\"is_wired\": {\"level\": 2, \"score\": NaN, \"value\": true}}, {\"TCP_window_scale\": {\"level\": 1, \"score\": NaN, \"value\": true}}, {\"transport\": {\"level\": 1, \"score\": 1.0, \"value\": \"TCP\"}}, {\"remote_ip\": {\"level\": 2, \"score\": 1.0, \"value\": \"10.1.23.45\"}}, {\"local_ip\": {\"level\": 2, \"score\": NaN, \"value\": \"10.2.0.1\"}}, {\"capacity\": {\"level\": 2, \"score\": 1.0, \"value\": 10}}, {\"dns_name\": {\"level\": 0, \"score\": NaN, \"value\": \"backup.example.com\"}}, {\"interface\": {\"level\": 2, \"score\": NaN, \"value\": \"en0\"}}]'"
      ]
     },
     "execution_count": 13,
     "metadata": {},
     "output_type": "execute_result"
    }
   ],
   "source": [
    "request.candidates[1].properties.json()"
   ]
  },
  {
   "cell_type": "code",
   "execution_count": null,
   "metadata": {
    "collapsed": true
   },
   "outputs": [],
   "source": []
  }
 ],
 "metadata": {
  "kernelspec": {
   "display_name": "Python 3",
   "language": "python",
   "name": "python3"
  },
  "language_info": {
   "codemirror_mode": {
    "name": "ipython",
    "version": 3
   },
   "file_extension": ".py",
   "mimetype": "text/x-python",
   "name": "python",
   "nbconvert_exporter": "python",
   "pygments_lexer": "ipython3",
   "version": "3.5.1"
  }
 },
 "nbformat": 4,
 "nbformat_minor": 0
}
