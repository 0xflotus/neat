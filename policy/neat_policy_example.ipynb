{
 "cells": [
  {
   "cell_type": "code",
   "execution_count": 1,
   "metadata": {
    "collapsed": false
   },
   "outputs": [],
   "source": [
    "from policy import PIB, NEATProperty, NEATPolicy, NEATRequest\n",
    "from cib import CIB"
   ]
  },
  {
   "cell_type": "markdown",
   "metadata": {},
   "source": [
    "# Application Request\n",
    "\n",
    "We consider an application that would like to open a new TCP connection using NEAT to a destination host `d1` with the IP 10.1.23.45. Further the MTU should be larger than 1500 bytes if possible. "
   ]
  },
  {
   "cell_type": "markdown",
   "metadata": {},
   "source": [
    "We define three properties to represent these application requirements and combine them into a NEATRequest: "
   ]
  },
  {
   "cell_type": "code",
   "execution_count": 2,
   "metadata": {
    "collapsed": false
   },
   "outputs": [
    {
     "name": "stdout",
     "output_type": "stream",
     "text": [
      "<NEATRequest: 0 candidates, 3 properties>\n"
     ]
    },
    {
     "data": {
      "text/plain": [
       "{[remote_ip|10.1.23.45], (transport_TCP|True), (MTU|1500-inf)}"
      ]
     },
     "execution_count": 2,
     "metadata": {},
     "output_type": "execute_result"
    }
   ],
   "source": [
    "property1 = NEATProperty(('remote_ip', '10.1.23.45'), level=NEATProperty.IMMUTABLE)\n",
    "property2 = NEATProperty(('MTU', (1500, float('inf'))), level=NEATProperty.REQUESTED) \n",
    "property3 = NEATProperty(('transport_TCP', True))  # REQUESTED is the default property level\n",
    "\n",
    "request = NEATRequest()\n",
    "request.properties.insert(property1)\n",
    "request.properties.insert(property2)\n",
    "request.properties.insert(property3)\n",
    "\n",
    "print(request)\n",
    "request.properties"
   ]
  },
  {
   "cell_type": "markdown",
   "metadata": {},
   "source": [
    "For this scenario we map the requirement `MTU>1500` to the range `[1500, inf]`. \n",
    "\n",
    "Properties can be exported to JSON strings (and imported):"
   ]
  },
  {
   "cell_type": "code",
   "execution_count": 3,
   "metadata": {
    "collapsed": false
   },
   "outputs": [
    {
     "data": {
      "text/plain": [
       "'[{\"remote_ip\": {\"level\": 2, \"score\": NaN, \"value\": \"10.1.23.45\"}}, {\"transport_TCP\": {\"level\": 1, \"score\": NaN, \"value\": true}}, {\"MTU\": {\"level\": 1, \"score\": NaN, \"value\": [1500, Infinity]}}]'"
      ]
     },
     "execution_count": 3,
     "metadata": {},
     "output_type": "execute_result"
    }
   ],
   "source": [
    "request.properties.json()"
   ]
  },
  {
   "cell_type": "markdown",
   "metadata": {},
   "source": [
    "# Exemplary Setup\n",
    "\n",
    "Consider a host with three local interfaces `en0`, `en1`, `ra0`. Two of the interfaces, `en0`, `en1`, are wired while `ra0` is a 3G interface. We populate an instance of the Characteristic Information Base (CIB) with some information about the host interfaces and the network."
   ]
  },
  {
   "cell_type": "code",
   "execution_count": 4,
   "metadata": {
    "collapsed": false
   },
   "outputs": [
    {
     "name": "stdout",
     "output_type": "stream",
     "text": [
      "loading CIB source A.connection\n",
      "loading CIB source B.connection\n",
      "loading CIB source C.connection\n"
     ]
    }
   ],
   "source": [
    "cib = CIB('cib/example/')"
   ]
  },
  {
   "cell_type": "markdown",
   "metadata": {},
   "source": [
    "The currently known network chracteristics are stored as entries in the CIB, where each entry contains a set of properties associated with some interface:"
   ]
  },
  {
   "cell_type": "code",
   "execution_count": 5,
   "metadata": {
    "collapsed": false
   },
   "outputs": [
    {
     "name": "stdout",
     "output_type": "stream",
     "text": [
      "A: {[is_wired|True], [capacity|10000], <dns_name|backup.example.com>, [interface|en0], [remote_ip|10.1.23.45], [MTU|9600], <transport|TCP>, [local_ip|10.2.0.1]}\n",
      "B: {<transport_TCP|True>, [is_wired|True], [capacity|40000], [interface|en1], [MTU|1500], [local_ip|192.168.1.2], <transport_UDP|True>}\n",
      "C: {[is_wired|False], [capacity|60], [interface|ra0], [remote_ip|10.1.23.45], [MTU|890], [local_ip|10.10.2.2]}\n"
     ]
    }
   ],
   "source": [
    "cib.dump()"
   ]
  },
  {
   "cell_type": "markdown",
   "metadata": {},
   "source": [
    "# PIB \n",
    "We define two sample policies and add them to the Policy Information Base (PIB).\n",
    "\n",
    "A \"bulk transfer\" policy is configured which is triggered by a specific destination IP, which is known to be the address of backup NFS share:"
   ]
  },
  {
   "cell_type": "code",
   "execution_count": 6,
   "metadata": {
    "collapsed": true
   },
   "outputs": [],
   "source": [
    "policy1 = NEATPolicy(name='Bulk transfer')\n",
    "policy1.match.insert(NEATProperty(('remote_ip', '10.1.23.45')))\n",
    "policy1.properties.insert(NEATProperty(('capacity', (10000, 100000)), level=NEATProperty.IMMUTABLE))\n",
    "policy1.properties.insert(NEATProperty(('MTU', 9600)))"
   ]
  },
  {
   "cell_type": "markdown",
   "metadata": {},
   "source": [
    "Another policy is in place to enable TCP window scaling on 10G links (if possible):"
   ]
  },
  {
   "cell_type": "code",
   "execution_count": 7,
   "metadata": {
    "collapsed": true
   },
   "outputs": [],
   "source": [
    "policy2 = NEATPolicy(name='TCP options')\n",
    "policy2.match.insert(NEATProperty(('MTU', 9600)))\n",
    "policy2.match.insert(NEATProperty(('is_wired', True)))\n",
    "policy2.properties.insert(NEATProperty(('TCP_window_scale', True)))"
   ]
  },
  {
   "cell_type": "code",
   "execution_count": 8,
   "metadata": {
    "collapsed": false
   },
   "outputs": [
    {
     "name": "stdout",
     "output_type": "stream",
     "text": [
      "===== PIB START =====\n",
      "POLICY Bulk transfer: {(remote_ip|10.1.23.45)}  ==>  {[capacity|10000-100000], (MTU|9600)}\n",
      "POLICY TCP options: {(is_wired|True), (MTU|9600)}  ==>  {(TCP_window_scale|True)}\n",
      "===== PIB END =====\n"
     ]
    }
   ],
   "source": [
    "pib = PIB()\n",
    "pib.register(policy1)\n",
    "pib.register(policy2)\n",
    "pib.dump()"
   ]
  },
  {
   "cell_type": "markdown",
   "metadata": {},
   "source": [
    "# Lookup Result\n",
    "\n",
    "## CIB Lookup\n",
    "\n",
    "First a lookup in the CIB is performed. Our NEAT request yields three candidates:\n"
   ]
  },
  {
   "cell_type": "code",
   "execution_count": 9,
   "metadata": {
    "collapsed": false
   },
   "outputs": [
    {
     "name": "stdout",
     "output_type": "stream",
     "text": [
      "{[remote_ip|10.1.23.45], (transport_TCP|True), (MTU|1500-inf)}\n",
      "===== candidates =====\n",
      "[0]PROPERTIES: {[is_wired|True], (transport_TCP|True), [capacity|10000], [interface|en0], [remote_ip|10.1.23.45]+1.0, <dns_name|backup.example.com>, [MTU|9600]+1.0, [local_ip|10.2.0.1], <transport|TCP>}, POLICIES: set()\n",
      "[1]PROPERTIES: {(transport_TCP|True)+1.0, [is_wired|True], [capacity|40000], [interface|en1], [remote_ip|10.1.23.45], [MTU|1500]+1.0, [local_ip|192.168.1.2], <transport_UDP|True>}, POLICIES: set()\n",
      "[2]PROPERTIES: {[is_wired|False], (transport_TCP|True), [capacity|60], [interface|ra0], [remote_ip|10.1.23.45]+1.0, [MTU|890]-1.0, [local_ip|10.10.2.2]}, POLICIES: set()\n",
      "===== candidates =====\n"
     ]
    }
   ],
   "source": [
    "cib.lookup(request)\n",
    "request.dump()"
   ]
  },
  {
   "cell_type": "markdown",
   "metadata": {},
   "source": [
    "Each candidate is comprised of the union of the properties of a single CIB entry and the application request. Whenever  the two sets intersect, the values of the corresponding properties are compared. If two properties match, the associated candidate property score is increased (e.g., `[MTU|1500]+1.0` indicates a new score of 1.0). The score is decreased if there is a mismatch in the property values."
   ]
  },
  {
   "cell_type": "markdown",
   "metadata": {},
   "source": [
    "## PIB Lookup\n",
    "In the next step the policies are applied starting with the \"Bulk transfer\" policy which has the *smallest* number of match entries.\n"
   ]
  },
  {
   "cell_type": "code",
   "execution_count": 10,
   "metadata": {
    "collapsed": false
   },
   "outputs": [
    {
     "name": "stdout",
     "output_type": "stream",
     "text": [
      "Candidate 2 is invalidated due to policy\n",
      "{[remote_ip|10.1.23.45], (transport_TCP|True), (MTU|1500-inf)}\n",
      "===== candidates =====\n",
      "[0]PROPERTIES: {[is_wired|True], (transport_TCP|True), [capacity|10000]+1.0, [interface|en0], (TCP_window_scale|True), [remote_ip|10.1.23.45]+1.0, <dns_name|backup.example.com>, [MTU|9600]+2.0, [local_ip|10.2.0.1], <transport|TCP>}, POLICIES: {4415132672, 4415132504}\n",
      "[1]PROPERTIES: {(transport_TCP|True)+1.0, [is_wired|True], [capacity|40000]+1.0, [interface|en1], [remote_ip|10.1.23.45], [MTU|1500]+0.0, [local_ip|192.168.1.2], <transport_UDP|True>, (TCP_window_scale|True)}, POLICIES: {4415132672, 4415132504}\n",
      "===== candidates =====\n"
     ]
    }
   ],
   "source": [
    "pib.lookup_all(request.candidates)\n",
    "request.dump()"
   ]
  },
  {
   "cell_type": "markdown",
   "metadata": {},
   "source": [
    "Candidate 1 becomes:        "
   ]
  },
  {
   "cell_type": "code",
   "execution_count": 11,
   "metadata": {
    "collapsed": false
   },
   "outputs": [
    {
     "name": "stdout",
     "output_type": "stream",
     "text": [
      "PROPERTIES: {[is_wired|True], (transport_TCP|True), [capacity|10000]+1.0, [interface|en0], (TCP_window_scale|True), [remote_ip|10.1.23.45]+1.0, <dns_name|backup.example.com>, [MTU|9600]+2.0, [local_ip|10.2.0.1], <transport|TCP>}, POLICIES: {4415132672, 4415132504}\n"
     ]
    }
   ],
   "source": [
    "request.candidates[0].dump()"
   ]
  },
  {
   "cell_type": "markdown",
   "metadata": {},
   "source": [
    "Next we examine Candidate 2:"
   ]
  },
  {
   "cell_type": "code",
   "execution_count": 12,
   "metadata": {
    "collapsed": false
   },
   "outputs": [
    {
     "name": "stdout",
     "output_type": "stream",
     "text": [
      "PROPERTIES: {(transport_TCP|True)+1.0, [is_wired|True], [capacity|40000]+1.0, [interface|en1], [remote_ip|10.1.23.45], [MTU|1500]+0.0, [local_ip|192.168.1.2], <transport_UDP|True>, (TCP_window_scale|True)}, POLICIES: {4415132672, 4415132504}\n"
     ]
    }
   ],
   "source": [
    "request.candidates[1].dump()"
   ]
  },
  {
   "cell_type": "markdown",
   "metadata": {},
   "source": [
    "Note that the score of the MTU property was reduced, as it did not match the requested property of the \"Bulk transfer\" policy.\n",
    "\n",
    "The \"TCP options\" policy is not applied as the candidate does not match the policy's MTU property.\n",
    "\n",
    "---\n",
    "\n",
    "The third candidate was invalidated because the \"Bulk transfer\" policy contains an immutable property requiring a capacity of 10G, which candidate 3 cannot fulfil.\n",
    "\n",
    "---"
   ]
  },
  {
   "cell_type": "markdown",
   "metadata": {},
   "source": [
    "# NEAT Logic\n",
    "The two candidates can now be passed on to the NEAT logic as JSON strings"
   ]
  },
  {
   "cell_type": "code",
   "execution_count": 13,
   "metadata": {
    "collapsed": false
   },
   "outputs": [
    {
     "data": {
      "text/plain": [
       "'[{\"is_wired\": {\"level\": 2, \"score\": NaN, \"value\": true}}, {\"transport_TCP\": {\"level\": 1, \"score\": NaN, \"value\": true}}, {\"capacity\": {\"level\": 2, \"score\": 1.0, \"value\": 10000}}, {\"interface\": {\"level\": 2, \"score\": NaN, \"value\": \"en0\"}}, {\"TCP_window_scale\": {\"level\": 1, \"score\": NaN, \"value\": true}}, {\"remote_ip\": {\"level\": 2, \"score\": 1.0, \"value\": \"10.1.23.45\"}}, {\"dns_name\": {\"level\": 0, \"score\": NaN, \"value\": \"backup.example.com\"}}, {\"MTU\": {\"level\": 2, \"score\": 2.0, \"value\": 9600}}, {\"local_ip\": {\"level\": 2, \"score\": NaN, \"value\": \"10.2.0.1\"}}, {\"transport\": {\"level\": 0, \"score\": NaN, \"value\": \"TCP\"}}]'"
      ]
     },
     "execution_count": 13,
     "metadata": {},
     "output_type": "execute_result"
    }
   ],
   "source": [
    "request.candidates[0].properties.json()"
   ]
  },
  {
   "cell_type": "code",
   "execution_count": 14,
   "metadata": {
    "collapsed": false
   },
   "outputs": [
    {
     "data": {
      "text/plain": [
       "'[{\"transport_TCP\": {\"level\": 1, \"score\": 1.0, \"value\": true}}, {\"is_wired\": {\"level\": 2, \"score\": NaN, \"value\": true}}, {\"capacity\": {\"level\": 2, \"score\": 1.0, \"value\": 40000}}, {\"interface\": {\"level\": 2, \"score\": NaN, \"value\": \"en1\"}}, {\"remote_ip\": {\"level\": 2, \"score\": NaN, \"value\": \"10.1.23.45\"}}, {\"MTU\": {\"level\": 2, \"score\": 0.0, \"value\": 1500}}, {\"local_ip\": {\"level\": 2, \"score\": NaN, \"value\": \"192.168.1.2\"}}, {\"transport_UDP\": {\"level\": 0, \"score\": NaN, \"value\": true}}, {\"TCP_window_scale\": {\"level\": 1, \"score\": NaN, \"value\": true}}]'"
      ]
     },
     "execution_count": 14,
     "metadata": {},
     "output_type": "execute_result"
    }
   ],
   "source": [
    "request.candidates[1].properties.json()"
   ]
  },
  {
   "cell_type": "code",
   "execution_count": null,
   "metadata": {
    "collapsed": true
   },
   "outputs": [],
   "source": []
  }
 ],
 "metadata": {
  "kernelspec": {
   "display_name": "Python 3",
   "language": "python",
   "name": "python3"
  },
  "language_info": {
   "codemirror_mode": {
    "name": "ipython",
    "version": 3
   },
   "file_extension": ".py",
   "mimetype": "text/x-python",
   "name": "python",
   "nbconvert_exporter": "python",
   "pygments_lexer": "ipython3",
   "version": "3.5.1"
  }
 },
 "nbformat": 4,
 "nbformat_minor": 0
}
